{
  "nbformat": 4,
  "nbformat_minor": 0,
  "metadata": {
    "colab": {
      "provenance": [],
      "authorship_tag": "ABX9TyPEHmVorUegm5WMwiHmTDua",
      "include_colab_link": true
    },
    "kernelspec": {
      "name": "python3",
      "display_name": "Python 3"
    },
    "language_info": {
      "name": "python"
    }
  },
  "cells": [
    {
      "cell_type": "markdown",
      "metadata": {
        "id": "view-in-github",
        "colab_type": "text"
      },
      "source": [
        "<a href=\"https://colab.research.google.com/github/firdella/My-Python-Portofolio/blob/main/Mini_Porto_EDA_using_Python.ipynb\" target=\"_parent\"><img src=\"https://colab.research.google.com/assets/colab-badge.svg\" alt=\"Open In Colab\"/></a>"
      ]
    },
    {
      "cell_type": "markdown",
      "source": [
        "#Import Library\n",
        "1. Pandas: \n",
        "*  library yang digunakan untuk melakukan manipulasi, cleansing maupun analisis struktur data, yaitu load, prepare, manipulate, modelling, dan analysis data\n",
        "*  Menggunakan konsep Array dari NumPy namun memberikan index pada Array sehingga disebut Series (1-dimensi) ataupun dataFrame (2-dimensi)\n",
        "\n",
        "2. Matplotlib: \n",
        "*   library yang digunakan untuk visualisasi data\n",
        "*   membuat visualisasi data 2 dimensional contoh: line chart, bar chart, box plot, violin chart, errorbar chart, scatter chart, dll"
      ],
      "metadata": {
        "id": "IortRWN__Iar"
      }
    },
    {
      "cell_type": "code",
      "execution_count": null,
      "metadata": {
        "id": "0DO0yWd62f46"
      },
      "outputs": [],
      "source": [
        "import pandas as pd\n",
        "import matplotlib.pyplot as plt"
      ]
    },
    {
      "cell_type": "markdown",
      "source": [
        "#Load Data CSV\n",
        "load data CSV ataupun excel dapat menggunakan fungsi pandas dengan alias pd"
      ],
      "metadata": {
        "id": "ugJhUUyIAqwt"
      }
    },
    {
      "cell_type": "code",
      "source": [
        "order_df = pd.read_csv(\"https://storage.googleapis.com/dqlab-dataset/order.csv\")\n",
        "order_df.info()"
      ],
      "metadata": {
        "colab": {
          "base_uri": "https://localhost:8080/"
        },
        "id": "gGnPmUV73Eu8",
        "outputId": "7c58fe78-a1c3-40ea-e157-5aa1399394af"
      },
      "execution_count": null,
      "outputs": [
        {
          "output_type": "stream",
          "name": "stdout",
          "text": [
            "<class 'pandas.core.frame.DataFrame'>\n",
            "RangeIndex: 49999 entries, 0 to 49998\n",
            "Data columns (total 12 columns):\n",
            " #   Column                 Non-Null Count  Dtype  \n",
            "---  ------                 --------------  -----  \n",
            " 0   order_id               49999 non-null  object \n",
            " 1   quantity               49999 non-null  int64  \n",
            " 2   product_id             49999 non-null  object \n",
            " 3   price                  49999 non-null  int64  \n",
            " 4   seller_id              49999 non-null  object \n",
            " 5   freight_value          49999 non-null  int64  \n",
            " 6   customer_id            49999 non-null  object \n",
            " 7   order_status           49999 non-null  object \n",
            " 8   purchase_date          49999 non-null  object \n",
            " 9   payment_type           49999 non-null  object \n",
            " 10  product_category_name  49999 non-null  object \n",
            " 11  product_weight_gram    49980 non-null  float64\n",
            "dtypes: float64(1), int64(3), object(8)\n",
            "memory usage: 4.6+ MB\n"
          ]
        }
      ]
    },
    {
      "cell_type": "markdown",
      "source": [
        "#Median price yang dibayar customer dari masing-masing metode pembayaran. \n"
      ],
      "metadata": {
        "id": "x1exwMT_A92D"
      }
    },
    {
      "cell_type": "code",
      "source": [
        "# Median price yang dibayar customer dari masing-masing metode pembayaran. \n",
        "median_price = order_df[\"price\"].groupby(order_df[\"payment_type\"]).median()\n",
        "print(median_price)"
      ],
      "metadata": {
        "colab": {
          "base_uri": "https://localhost:8080/"
        },
        "id": "L2JDSs_i3NsO",
        "outputId": "fca19a65-e424-459e-990d-f3fd6646a081"
      },
      "execution_count": null,
      "outputs": [
        {
          "output_type": "stream",
          "name": "stdout",
          "text": [
            "payment_type\n",
            "credit card        2587500.0\n",
            "debit card         2621500.0\n",
            "e-wallet           2589000.0\n",
            "virtual account    2643000.0\n",
            "Name: price, dtype: float64\n"
          ]
        }
      ]
    },
    {
      "cell_type": "markdown",
      "source": [
        "#Ubah freight_value menjadi shipping_cost dan cari shipping_cost, termahal dari data penjualan tersebut menggunakan sort."
      ],
      "metadata": {
        "id": "p3TQyQWrBPQi"
      }
    },
    {
      "cell_type": "code",
      "source": [
        "order_df.rename(columns={\"freight_value\": \"shipping_cost\"}, inplace=True)\n",
        "sort_value = order_df.sort_values(by=\"shipping_cost\", ascending=False)\n",
        "print(sort_value)"
      ],
      "metadata": {
        "id": "mqRecem93TZl"
      },
      "execution_count": null,
      "outputs": []
    },
    {
      "cell_type": "markdown",
      "source": [
        "#Untuk product_category_name, berapa  rata-rata weight produk tersebut \n"
      ],
      "metadata": {
        "id": "dDaksguTBXNH"
      }
    },
    {
      "cell_type": "code",
      "source": [
        "mean_value = order_df[\"product_weight_gram\"].groupby(order_df[\"product_category_name\"]).mean()\n",
        "print(mean_value.sort_values())"
      ],
      "metadata": {
        "colab": {
          "base_uri": "https://localhost:8080/"
        },
        "id": "99aMWgjr3WGA",
        "outputId": "1a19ee52-f11f-4d9c-982d-8078bd359cf9"
      },
      "execution_count": null,
      "outputs": [
        {
          "output_type": "stream",
          "name": "stdout",
          "text": [
            "product_category_name\n",
            "beauty         2120.088396\n",
            "automotive     2129.559039\n",
            "electronics    2144.751191\n",
            "toys           2203.863643\n",
            "gadget         2229.632942\n",
            "fashion        2246.516901\n",
            "sports         2251.879909\n",
            "utilities      2291.029868\n",
            "Name: product_weight_gram, dtype: float64\n"
          ]
        }
      ]
    },
    {
      "cell_type": "markdown",
      "source": [
        "#Standar deviasi mana yang terkecil dari weight tersebut"
      ],
      "metadata": {
        "id": "f8SCVTiWBa5l"
      }
    },
    {
      "cell_type": "code",
      "source": [
        "std_value = order_df[\"product_weight_gram\"].groupby(order_df[\"product_category_name\"]).std()\n",
        "print(std_value.sort_values())"
      ],
      "metadata": {
        "colab": {
          "base_uri": "https://localhost:8080/"
        },
        "id": "_0jeJ3Bs9FIz",
        "outputId": "dc89945e-4206-41ef-ff4e-9a3e579e8d35"
      },
      "execution_count": null,
      "outputs": [
        {
          "output_type": "stream",
          "name": "stdout",
          "text": [
            "product_category_name\n",
            "automotive     3799.884166\n",
            "beauty         3837.474929\n",
            "electronics    3839.271768\n",
            "fashion        3858.885213\n",
            "gadget         3955.792741\n",
            "toys           3956.814749\n",
            "sports         4032.850044\n",
            "utilities      4150.509909\n",
            "Name: product_weight_gram, dtype: float64\n"
          ]
        }
      ]
    },
    {
      "cell_type": "markdown",
      "source": [
        "#Buat histogram quantity penjualan dari dataset tersebutuntuk melihat persebaran quantity penjualan tersebut dengan bins = 5 dan figsize= (4,5)"
      ],
      "metadata": {
        "id": "KR8GZy9XBgGv"
      }
    },
    {
      "cell_type": "code",
      "source": [
        "order_df[[\"quantity\"]].hist(figsize=(4, 5), bins=5)\n",
        "plt.show()"
      ],
      "metadata": {
        "colab": {
          "base_uri": "https://localhost:8080/",
          "height": 468
        },
        "id": "pRNhWwMG3Ytt",
        "outputId": "83983ae7-f230-4f64-ddf9-548168f9409e"
      },
      "execution_count": null,
      "outputs": [
        {
          "output_type": "display_data",
          "data": {
            "text/plain": [
              "<Figure size 400x500 with 1 Axes>"
            ],
            "image/png": "[encoded data removed]"
          },
          "metadata": {}
        }
      ]
    }
  ]
}